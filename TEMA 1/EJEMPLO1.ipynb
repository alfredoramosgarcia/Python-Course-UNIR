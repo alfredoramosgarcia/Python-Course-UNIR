{
 "cells": [
  {
   "cell_type": "code",
   "execution_count": 1,
   "id": "07c56bad-05ea-4951-b164-21190021333a",
   "metadata": {},
   "outputs": [
    {
     "name": "stdout",
     "output_type": "stream",
     "text": [
      "Hola mundo 3\n"
     ]
    }
   ],
   "source": [
    "print(\"Hola mundo 3\")"
   ]
  },
  {
   "cell_type": "markdown",
   "id": "0416c91e-cbee-47c0-9f2d-81f160bb6c39",
   "metadata": {},
   "source": [
    "## HOLA MUNDO"
   ]
  },
  {
   "cell_type": "markdown",
   "id": "71a73fb2-6081-4d9d-945b-63c828f9c940",
   "metadata": {},
   "source": [
    "### HOLA MUNDO"
   ]
  },
  {
   "cell_type": "code",
   "execution_count": null,
   "id": "ad3e8e40-fb59-4906-8ad7-540d28567ccc",
   "metadata": {},
   "outputs": [],
   "source": []
  }
 ],
 "metadata": {
  "kernelspec": {
   "display_name": "Python [conda env:base] *",
   "language": "python",
   "name": "conda-base-py"
  },
  "language_info": {
   "codemirror_mode": {
    "name": "ipython",
    "version": 3
   },
   "file_extension": ".py",
   "mimetype": "text/x-python",
   "name": "python",
   "nbconvert_exporter": "python",
   "pygments_lexer": "ipython3",
   "version": "3.12.7"
  }
 },
 "nbformat": 4,
 "nbformat_minor": 5
}
